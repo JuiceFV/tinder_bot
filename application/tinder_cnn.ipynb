{
 "cells": [
  {
   "cell_type": "code",
   "execution_count": 1,
   "metadata": {},
   "outputs": [],
   "source": [
    "%matplotlib inline\n",
    "from keras import applications\n",
    "from keras.datasets import mnist\n",
    "import numpy as np\n",
    "import matplotlib.pyplot as plt\n",
    "from keras.models import Sequential\n",
    "from keras.layers import Dense, Dropout, Activation, Flatten\n",
    "from keras.layers import Convolution2D, MaxPooling2D\n",
    "from keras.utils import np_utils\n",
    "from imblearn.over_sampling import RandomOverSampler\n",
    "from sklearn.model_selection import train_test_split\n",
    "from keras import optimizers"
   ]
  },
  {
   "cell_type": "code",
   "execution_count": 2,
   "metadata": {},
   "outputs": [],
   "source": [
    "img_size = 256\n",
    "_lambda = 0.01"
   ]
  },
  {
   "cell_type": "code",
   "execution_count": 3,
   "metadata": {
    "scrolled": true
   },
   "outputs": [
    {
     "name": "stdout",
     "output_type": "stream",
     "text": [
      "(2815, 256, 256, 3)\n",
      "(2815,)\n"
     ]
    }
   ],
   "source": [
    "data = np.load('processed_val_images.npy')\n",
    "labels = np.load('processed_val_labels.npy')\n",
    "\n",
    "print(data.shape)\n",
    "print(labels.shape)"
   ]
  },
  {
   "cell_type": "code",
   "execution_count": 4,
   "metadata": {},
   "outputs": [
    {
     "name": "stdout",
     "output_type": "stream",
     "text": [
      "Training matrix shape (2252, 256, 256, 3)\n",
      "Testing matrix shape (563, 256, 256, 3)\n",
      "Training label shape (2252, 2)\n",
      "Testing label shape (563, 2)\n"
     ]
    }
   ],
   "source": [
    "X_train, X_test, y_train, y_test = train_test_split(data, labels, train_size = 0.8, random_state = 20)\n",
    "\n",
    "nb_classes = 2\n",
    "y_train = np.array(y_train)\n",
    "y_test = np.array(y_test)\n",
    "Y_train = np_utils.to_categorical(y_train, nb_classes)\n",
    "Y_test = np_utils.to_categorical(y_test, nb_classes)\n",
    "\n",
    "X_train = X_train.astype('float32')\n",
    "X_test = X_test.astype('float32')\n",
    "\n",
    "print(\"Training matrix shape\", X_train.shape)\n",
    "print(\"Testing matrix shape\", X_test.shape)\n",
    "\n",
    "print(\"Training label shape\", Y_train.shape)\n",
    "print(\"Testing label shape\", Y_test.shape)"
   ]
  },
  {
   "cell_type": "code",
   "execution_count": 15,
   "metadata": {},
   "outputs": [],
   "source": [
    "model = applications.VGG16(weights=\"imagenet\", include_top=False, input_shape = (img_size, img_size, 3))"
   ]
  },
  {
   "cell_type": "code",
   "execution_count": 16,
   "metadata": {},
   "outputs": [
    {
     "name": "stdout",
     "output_type": "stream",
     "text": [
      "Model: \"vgg16\"\n",
      "_________________________________________________________________\n",
      "Layer (type)                 Output Shape              Param #   \n",
      "=================================================================\n",
      "input_2 (InputLayer)         [(None, 256, 256, 3)]     0         \n",
      "_________________________________________________________________\n",
      "block1_conv1 (Conv2D)        (None, 256, 256, 64)      1792      \n",
      "_________________________________________________________________\n",
      "block1_conv2 (Conv2D)        (None, 256, 256, 64)      36928     \n",
      "_________________________________________________________________\n",
      "block1_pool (MaxPooling2D)   (None, 128, 128, 64)      0         \n",
      "_________________________________________________________________\n",
      "block2_conv1 (Conv2D)        (None, 128, 128, 128)     73856     \n",
      "_________________________________________________________________\n",
      "block2_conv2 (Conv2D)        (None, 128, 128, 128)     147584    \n",
      "_________________________________________________________________\n",
      "block2_pool (MaxPooling2D)   (None, 64, 64, 128)       0         \n",
      "_________________________________________________________________\n",
      "block3_conv1 (Conv2D)        (None, 64, 64, 256)       295168    \n",
      "_________________________________________________________________\n",
      "block3_conv2 (Conv2D)        (None, 64, 64, 256)       590080    \n",
      "_________________________________________________________________\n",
      "block3_conv3 (Conv2D)        (None, 64, 64, 256)       590080    \n",
      "_________________________________________________________________\n",
      "block3_pool (MaxPooling2D)   (None, 32, 32, 256)       0         \n",
      "_________________________________________________________________\n",
      "block4_conv1 (Conv2D)        (None, 32, 32, 512)       1180160   \n",
      "_________________________________________________________________\n",
      "block4_conv2 (Conv2D)        (None, 32, 32, 512)       2359808   \n",
      "_________________________________________________________________\n",
      "block4_conv3 (Conv2D)        (None, 32, 32, 512)       2359808   \n",
      "_________________________________________________________________\n",
      "block4_pool (MaxPooling2D)   (None, 16, 16, 512)       0         \n",
      "_________________________________________________________________\n",
      "block5_conv1 (Conv2D)        (None, 16, 16, 512)       2359808   \n",
      "_________________________________________________________________\n",
      "block5_conv2 (Conv2D)        (None, 16, 16, 512)       2359808   \n",
      "_________________________________________________________________\n",
      "block5_conv3 (Conv2D)        (None, 16, 16, 512)       2359808   \n",
      "_________________________________________________________________\n",
      "block5_pool (MaxPooling2D)   (None, 8, 8, 512)         0         \n",
      "=================================================================\n",
      "Total params: 14,714,688\n",
      "Trainable params: 14,714,688\n",
      "Non-trainable params: 0\n",
      "_________________________________________________________________\n"
     ]
    }
   ],
   "source": [
    "model.summary()"
   ]
  },
  {
   "cell_type": "code",
   "execution_count": 17,
   "metadata": {},
   "outputs": [],
   "source": [
    "top_model = Sequential()\n",
    "\n",
    "top_model.add(Flatten(input_shape=model.output_shape[1:]))\n",
    "top_model.add(Dense(256, activation='relu'))\n",
    "top_model.add(Dropout(0.5))\n",
    "top_model.add(Dense(2, activation='softmax'))"
   ]
  },
  {
   "cell_type": "code",
   "execution_count": 18,
   "metadata": {},
   "outputs": [],
   "source": [
    "new_model = Sequential() #new model\n",
    "for layer in model.layers: \n",
    "    new_model.add(layer)\n",
    "    \n",
    "new_model.add(top_model) # now this works"
   ]
  },
  {
   "cell_type": "code",
   "execution_count": 19,
   "metadata": {},
   "outputs": [],
   "source": [
    "for layer in model.layers[:21]:\n",
    "    layer.trainable = False"
   ]
  },
  {
   "cell_type": "code",
   "execution_count": 23,
   "metadata": {},
   "outputs": [],
   "source": [
    "adam = optimizers.SGD(lr=1e-4, decay=1e-6, momentum=0.7, nesterov=True)\n",
    "new_model.compile(loss='categorical_crossentropy',\n",
    "              optimizer= adam,\n",
    "              metrics=['accuracy'])"
   ]
  },
  {
   "cell_type": "code",
   "execution_count": 24,
   "metadata": {
    "scrolled": false
   },
   "outputs": [
    {
     "name": "stdout",
     "output_type": "stream",
     "text": [
      "Epoch 1/32\n",
      "141/141 - 359s - loss: 0.6548 - accuracy: 0.6159\n",
      "Epoch 2/32\n",
      "141/141 - 356s - loss: 0.6572 - accuracy: 0.6092\n",
      "Epoch 3/32\n",
      "141/141 - 352s - loss: 0.6509 - accuracy: 0.6115\n",
      "Epoch 4/32\n",
      "141/141 - 360s - loss: 0.6462 - accuracy: 0.6186\n",
      "Epoch 5/32\n",
      "141/141 - 366s - loss: 0.6468 - accuracy: 0.6306\n",
      "Epoch 6/32\n",
      "141/141 - 372s - loss: 0.6404 - accuracy: 0.6474\n",
      "Epoch 7/32\n",
      "141/141 - 370s - loss: 0.6431 - accuracy: 0.6328\n",
      "Epoch 8/32\n",
      "141/141 - 354s - loss: 0.6395 - accuracy: 0.6394\n",
      "Epoch 9/32\n",
      "141/141 - 373s - loss: 0.6418 - accuracy: 0.6248\n",
      "Epoch 10/32\n",
      "141/141 - 369s - loss: 0.6369 - accuracy: 0.6319\n",
      "Epoch 11/32\n",
      "141/141 - 356s - loss: 0.6360 - accuracy: 0.6399\n",
      "Epoch 12/32\n",
      "141/141 - 349s - loss: 0.6287 - accuracy: 0.6536\n",
      "Epoch 13/32\n",
      "141/141 - 366s - loss: 0.6238 - accuracy: 0.6505\n",
      "Epoch 14/32\n",
      "141/141 - 370s - loss: 0.6280 - accuracy: 0.6532\n",
      "Epoch 15/32\n",
      "141/141 - 385s - loss: 0.6215 - accuracy: 0.6496\n",
      "Epoch 16/32\n",
      "141/141 - 381s - loss: 0.6197 - accuracy: 0.6639\n",
      "Epoch 17/32\n",
      "141/141 - 373s - loss: 0.6199 - accuracy: 0.6563\n",
      "Epoch 18/32\n",
      "141/141 - 374s - loss: 0.6167 - accuracy: 0.6612\n",
      "Epoch 19/32\n",
      "141/141 - 357s - loss: 0.6129 - accuracy: 0.6718\n",
      "Epoch 20/32\n",
      "141/141 - 351s - loss: 0.6171 - accuracy: 0.6652\n",
      "Epoch 21/32\n",
      "141/141 - 355s - loss: 0.6163 - accuracy: 0.6576\n",
      "Epoch 22/32\n",
      "141/141 - 350s - loss: 0.6127 - accuracy: 0.6590\n",
      "Epoch 23/32\n",
      "141/141 - 363s - loss: 0.6072 - accuracy: 0.6705\n",
      "Epoch 24/32\n",
      "141/141 - 367s - loss: 0.6022 - accuracy: 0.6710\n",
      "Epoch 25/32\n",
      "141/141 - 357s - loss: 0.6032 - accuracy: 0.6861\n",
      "Epoch 26/32\n",
      "141/141 - 355s - loss: 0.5968 - accuracy: 0.6798\n",
      "Epoch 27/32\n",
      "141/141 - 356s - loss: 0.5939 - accuracy: 0.6869\n",
      "Epoch 28/32\n",
      "141/141 - 356s - loss: 0.5899 - accuracy: 0.6812\n",
      "Epoch 29/32\n",
      "141/141 - 355s - loss: 0.5893 - accuracy: 0.6980\n",
      "Epoch 30/32\n",
      "141/141 - 355s - loss: 0.5963 - accuracy: 0.6816\n",
      "Epoch 31/32\n",
      "141/141 - 356s - loss: 0.5914 - accuracy: 0.6781\n",
      "Epoch 32/32\n",
      "141/141 - 366s - loss: 0.5830 - accuracy: 0.7007\n"
     ]
    }
   ],
   "source": [
    "m1 = new_model.fit(X_train, Y_train, batch_size=16, epochs=32, verbose=2)"
   ]
  },
  {
   "cell_type": "code",
   "execution_count": 25,
   "metadata": {},
   "outputs": [],
   "source": [
    "def plot_history(history):\n",
    "    loss_list = [s for s in history.history.keys() if 'loss' in s and 'val' not in s]\n",
    "    val_loss_list = [s for s in history.history.keys() if 'loss' in s and 'val' in s]\n",
    "    acc_list = [s for s in history.history.keys() if 'acc' in s and 'val' not in s]\n",
    "    val_acc_list = [s for s in history.history.keys() if 'acc' in s and 'val' in s]\n",
    "    \n",
    "    if len(loss_list) == 0:\n",
    "        print('Loss is missing in history')\n",
    "        return \n",
    "    \n",
    "    ## As loss always exists\n",
    "    epochs = range(1,len(history.history[loss_list[0]]) + 1)\n",
    "    \n",
    "    ## Loss\n",
    "    plt.figure(1)\n",
    "    for l in loss_list:\n",
    "        plt.plot(epochs, history.history[l], 'b', label='Training loss (' + str(str(format(history.history[l][-1],'.5f'))+')'))\n",
    "    for l in val_loss_list:\n",
    "        plt.plot(epochs, history.history[l], 'g', label='Validation loss (' + str(str(format(history.history[l][-1],'.5f'))+')'))\n",
    "    \n",
    "    #plt.xlim(xmin=0)\n",
    "    plt.ylim(ymin=0)\n",
    "    plt.title('Loss')\n",
    "    plt.xlabel('Epochs')\n",
    "    plt.ylabel('Loss')\n",
    "    plt.legend()\n",
    "    \n",
    "    ## Accuracy\n",
    "    plt.figure(2)\n",
    "    for l in acc_list:\n",
    "        plt.plot(epochs, history.history[l], 'b', label='Training accuracy (' + str(format(history.history[l][-1],'.5f'))+')')\n",
    "    for l in val_acc_list:    \n",
    "        plt.plot(epochs, history.history[l], 'g', label='Validation accuracy (' + str(format(history.history[l][-1],'.5f'))+')')\n",
    "\n",
    "    #plt.ylim(0, 1)    \n",
    "    plt.title('Accuracy')\n",
    "    plt.xlabel('Epochs')\n",
    "    plt.ylabel('Accuracy')\n",
    "    plt.legend()\n",
    "    plt.show()"
   ]
  },
  {
   "cell_type": "code",
   "execution_count": 26,
   "metadata": {},
   "outputs": [
    {
     "data": {
      "image/png": "[encoded data removed]",
      "text/plain": [
       "<Figure size 432x288 with 1 Axes>"
      ]
     },
     "metadata": {
      "needs_background": "light"
     },
     "output_type": "display_data"
    },
    {
     "data": {
      "image/png": "[encoded data removed]",
      "text/plain": [
       "<Figure size 432x288 with 1 Axes>"
      ]
     },
     "metadata": {
      "needs_background": "light"
     },
     "output_type": "display_data"
    }
   ],
   "source": [
    "plot_history(m1)"
   ]
  },
  {
   "cell_type": "code",
   "execution_count": 27,
   "metadata": {},
   "outputs": [],
   "source": [
    "new_model.save('milka_70_model_V3.h5')"
   ]
  }
 ],
 "metadata": {
  "kernelspec": {
   "display_name": "Python 3",
   "language": "python",
   "name": "python3"
  },
  "language_info": {
   "codemirror_mode": {
    "name": "ipython",
    "version": 3
   },
   "file_extension": ".py",
   "mimetype": "text/x-python",
   "name": "python",
   "nbconvert_exporter": "python",
   "pygments_lexer": "ipython3",
   "version": "3.7.6"
  }
 },
 "nbformat": 4,
 "nbformat_minor": 4
}
